{
 "cells": [
  {
   "cell_type": "markdown",
   "metadata": {},
   "source": [
    "```\n",
    "PLEASE NOTE THAT THE BELOW HAS NOT BE THOROUGHLY CLEANED, IT REFLECTS THE CALCULATIONS MADE TO INFORM THE MAIN MODEL FUNCTION\n",
    "```"
   ]
  },
  {
   "cell_type": "markdown",
   "metadata": {},
   "source": [
    "# Prepare various datasets"
   ]
  },
  {
   "cell_type": "code",
   "execution_count": null,
   "metadata": {},
   "outputs": [],
   "source": [
    "library(tidyverse)\n",
    "library(lubridate)\n"
   ]
  },
  {
   "cell_type": "markdown",
   "metadata": {},
   "source": [
    "### ECDC data worldwide\n",
    "\n",
    "Script from Imperial report #13"
   ]
  },
  {
   "cell_type": "code",
   "execution_count": null,
   "metadata": {},
   "outputs": [],
   "source": [
    "url <- \"https://opendata.ecdc.europa.eu/covid19/casedistribution/csv\"\n",
    "\n",
    "url_page <- \"https://www.ecdc.europa.eu/en/publications-data/download-todays-data-geographic-distribution-covid-19-cases-worldwide\"\n",
    "tryCatch({\n",
    "  code <- download.file(url, \"data/COVID-19-up-to-date.csv\")\n",
    "  if (code != 0) {\n",
    "    stop(\"Error downloading file\")\n",
    "  }\n",
    "},\n",
    "error = function(e) {\n",
    "  stop(sprintf(\"Error downloading file '%s': %s, please check %s\",\n",
    "               url, e$message, url_page))\n",
    "})\n",
    "\n",
    "\n",
    "d <- read.csv(\"data/COVID-19-up-to-date.csv\", stringsAsFactors = FALSE)\n",
    "d$t <- lubridate::decimal_date(as.Date(d$dateRep, format = \"%d/%m/%Y\"))\n",
    "d <- d[order(d$'countriesAndTerritories', d$t, decreasing = FALSE), ]\n",
    "names(d)[names(d) == \"countriesAndTerritories\"] <- \"Countries.and.territories\"\n",
    "names(d)[names(d) == \"deaths\"] <- \"Deaths\"\n",
    "names(d)[names(d) == \"cases\"] <- \"Cases\"\n",
    "names(d)[names(d) == \"dateRep\"] <- \"DateRep\"\n",
    "saveRDS(d, \"data/COVID-19-up-to-date.rds\")"
   ]
  },
  {
   "cell_type": "markdown",
   "metadata": {},
   "source": [
    "### SOCRATES - Social distancing beta\n",
    "\n",
    "Generated manually using https://lwillem.shinyapps.io/socrates_rshiny/ \"Distancing\" option,\n",
    "with settings:\n",
    "\n",
    "UK Mossong 2008\n",
    "- Schools closed\n",
    "- Telework 60% observed, 70% target\n",
    "- Social distancing 80% transport, 90% leisure, 90% otherplace"
   ]
  },
  {
   "cell_type": "markdown",
   "metadata": {},
   "source": [
    "Double click to reveal data\n",
    "<!--\n",
    "$matrix\n",
    "         contact.age.group\n",
    "             [0,10)   [10,20)   [20,30)   [30,40)   [40,50)   [50,60)   [60,70)\n",
    "  [0,10)  4.4524648 1.0023677 0.9267597 1.8494522 0.8416188 0.4184347 0.3653064\n",
    "  [10,20) 0.9028817 6.2891541 0.7661398 1.1677677 1.5084552 0.5513150 0.3290871\n",
    "  [20,30) 0.8484163 0.7786568 1.9985976 1.0581466 1.1608058 0.7290598 0.3352099\n",
    "  [30,40) 1.4630051 1.0255466 0.9143379 1.7649299 1.1682960 0.6524238 0.5153032\n",
    "  [40,50) 0.6827956 1.3586386 1.0287102 1.1981894 1.7330835 0.7400668 0.4800984\n",
    "  [50,60) 0.3903293 0.5709519 0.7428905 0.7693618 0.8509404 1.0113230 0.4037793\n",
    "  [60,70) 0.4392010 0.4392513 0.4402314 0.7831881 0.7114772 0.5204110 0.7916867\n",
    "  [70,79) 0.2097901 0.4888515 0.1921582 0.2887334 0.6030292 0.3634602 0.3458098\n",
    "  79+     0.1201383 0.3895300 0.1902486 0.2879470 1.5277207 2.1654861 0.3425987\n",
    "         contact.age.group\n",
    "             [70,79)         79+\n",
    "  [0,10)  0.11661007 0.006675041\n",
    "  [10,20) 0.24475509 0.019494732\n",
    "  [20,30) 0.09778038 0.009676893\n",
    "  [30,40) 0.12695528 0.012655749\n",
    "  [40,50) 0.27193473 0.068863943\n",
    "  [50,60) 0.18845664 0.112235834\n",
    "  [60,70) 0.23109700 0.022885705\n",
    "  [70,79) 0.60200135 0.020608840\n",
    "  79+     0.20617308 1.018981751\n",
    "\n",
    "$mij_ratio\n",
    "         contact.age.group\n",
    "             [0,10)   [10,20)   [20,30)   [30,40)   [40,50)   [50,60)   [60,70)\n",
    "  [0,10)  0.8724908 0.7786869 0.7110732 0.7989095 0.7499990 0.6901133 0.8059413\n",
    "  [10,20) 0.7786869 0.7860275 0.6130213 0.7718294 0.7986402 0.6596220 0.7628860\n",
    "  [20,30) 0.7110732 0.6130213 0.5626967 0.5836886 0.6428855 0.5646897 0.4730505\n",
    "  [30,40) 0.7989095 0.7718294 0.5836886 0.6406482 0.6003155 0.5283291 0.5969840\n",
    "  [40,50) 0.7499990 0.7986402 0.6428855 0.6003155 0.5957767 0.5375141 0.5585658\n",
    "  [50,60) 0.6901133 0.6596220 0.5646897 0.5283291 0.5375141 0.5244481 0.4190457\n",
    "  [60,70) 0.8059413 0.7628860 0.4730505 0.5969840 0.5585658 0.4190457 0.5960359\n",
    "  [70,79) 0.6561738 0.7133536 0.3933889 0.5189821 0.5561491 0.4069975 0.3489019\n",
    "  79+     0.5974460 0.6008924 0.4494123 0.3209152 0.6231519 0.6116938 0.2416726\n",
    "         contact.age.group\n",
    "            [70,79)       79+\n",
    "  [0,10)  0.6561738 0.5974460\n",
    "  [10,20) 0.7133536 0.6008924\n",
    "  [20,30) 0.3933889 0.4494123\n",
    "  [30,40) 0.5189821 0.3209152\n",
    "  [40,50) 0.5561491 0.6231519\n",
    "  [50,60) 0.4069975 0.6116938\n",
    "  [60,70) 0.3489019 0.2416726\n",
    "  [70,79) 0.5116825 0.1589608\n",
    "  79+     0.1589608 1.0000000\n",
    "\n",
    "$notes\n",
    "     [,1]                                              \n",
    "[1,] \"ratio = with intervention / without intervention\"\n",
    "[2,] \"All schools are closed\"                          \n",
    "[3,] \"Increased telework (70% instead of 60%)\"         \n",
    "[4,] \"Social distancing for Transport: 80% reduction\"  \n",
    "[5,] \"Social distancing for Leisure: 90% reduction\"    \n",
    "[6,] \"Social distancing for Otherplace: 90% reduction\" \n",
    "[7,] \"Social distancing for Work: 25% reduction\"\n",
    "!-->"
   ]
  },
  {
   "cell_type": "markdown",
   "metadata": {},
   "source": [
    "### Hospital episode statistics\n",
    "\n",
    "From UK NHS Digital 2015-16 report we can get age distribution (see saved png in data/)\n",
    "source: https://webarchive.nationalarchives.gov.uk/20180328130140/http://digital.nhs.uk/catalogue/PUB22378\n",
    "\n",
    "The 0-4 age includes births therefore are ignored, and the 0-9 range is extrapolated from age 5-9"
   ]
  },
  {
   "cell_type": "code",
   "execution_count": null,
   "metadata": {},
   "outputs": [],
   "source": [
    "finishedAdmissionEpisodes = list(\n",
    "    '0-9'=306259*2,\n",
    "    '10-19'=250177+393755,\n",
    "    '20-29'=673309+878408,\n",
    "    '30-39'=903372+743633,\n",
    "    '40-49'=701205+834100,\n",
    "    '50-59'=959687+1037374,\n",
    "    '60-69'=1065839+1336644,\n",
    "    '70-79'=1270295+1239246,\n",
    "    '80+' = 1033567+713075+423942\n",
    ")\n",
    "\n",
    "currentPopulation = list(\n",
    "    '0-9'=3357463*2,\n",
    "    '10-19'=3000295+3213289,\n",
    "    '20-29'=3592257+3757968,\n",
    "    '30-39'=3728028+3470918,\n",
    "    '40-49'=3636454+3889369,\n",
    "    '50-59'=3811000+3278322,\n",
    "    '60-69'=2904721+3017135,\n",
    "    '70-79'=2268620+1804228,\n",
    "    '80+' = 1326300+820321+474968\n",
    ")\n",
    "\n",
    "df_hospitalisation = data.frame(\n",
    "    finishedAdmissionEpisodes=unlist(finishedAdmissionEpisodes), \n",
    "    currentPopulation=unlist(currentPopulation)\n",
    ")\n",
    "\n",
    "df_hospitalisation['ageRelativeHospitalisationDailyRates'] = df_hospitalisation$finishedAdmissionEpisodes/(365*df_hospitalisation$currentPopulation)\n",
    "\n",
    "# The Scottish ISD dataset estimate for overall hospitalisation daily rate is 0.0005292510254722236\n",
    "# Here it is 0.000754683533340698, similar order of magnitude (good to double check!)\n",
    "# sum(df_hospitalisation$relativeHospitalisationDailyRates*df_hospitalisation$currentPopulation/sum(df_hospitalisation$currentPopulation))\n",
    "\n",
    "# Save dataframe as csv to load in python model\n",
    "write.csv(df_hospitalisation, \"data/clean_hosp-epis-stat-admi-summ-rep-2015-16-rep_table_6.csv\")"
   ]
  },
  {
   "cell_type": "code",
   "execution_count": null,
   "metadata": {},
   "outputs": [],
   "source": [
    "df_hospitalisation"
   ]
  },
  {
   "cell_type": "code",
   "execution_count": null,
   "metadata": {},
   "outputs": [],
   "source": [
    "# More detailed dataset that includes length of stay\n",
    "# From NHS digital: https://digital.nhs.uk/data-and-information/find-data-and-publications/supplementary-information/2019-supplementary-information-files/mean-and-median-length-of-stay-of-hospital-inpatient-episodes\n",
    "\n",
    "# Mean and median length of stay of hospital inpatient episodes\n",
    "# Published: 15 April 2019\n",
    "# Time Frame: 2017/18\n",
    "# Summary: Counts of ordinary episodes and the mean and median length of stay (in days), by Hospital Provider, by 10 year age bands, for the year 2017-18\n",
    "\n",
    "df_hosp_xlsx = xlsx::read.xlsx(\"data/10641_LoS_age_provider_suppressed.xlsx\", 2, rowIndex=5:431, colIndex=4:37)\n",
    "\n",
    "df_hosp_xlsx[df_hosp_xlsx==\"*\"] = 0\n",
    "df_hosp_xlsx[df_hosp_xlsx==NA] = 0\n",
    "\n",
    "\n",
    "# Age-grouped mean length of stay (number of episodes * average length of stay, averaged over NHS trusts)\n",
    "totalStaysByAge = colSums(as.matrix(sapply(df_hosp_xlsx[,1:10], function(x)as.numeric(as.character(x)))))\n",
    "\n",
    "ageHospitalMeanLengthOfStay = colSums(\n",
    "    as.matrix(sapply(df_hosp_xlsx[,1:10], function(x)as.numeric(as.character(x)))) *\n",
    "    as.matrix(sapply(df_hosp_xlsx[,12:21], function(x)as.numeric(as.character(x))))\n",
    ") / totalStaysByAge\n",
    "\n",
    "     \n",
    "# Merge age 80-89 and 90+ into 80+ (as the rest of our data)\n",
    "ageHospitalMeanLengthOfStay[9] = (\n",
    "    ageHospitalMeanLengthOfStay[9] * totalStaysByAge[9] + \n",
    "    ageHospitalMeanLengthOfStay[10] * totalStaysByAge[10]\n",
    ") / (totalStaysByAge[9] + totalStaysByAge[10])\n",
    "ageHospitalMeanLengthOfStay = ageHospitalMeanLengthOfStay[-10]\n",
    "names(ageHospitalMeanLengthOfStay)[9] = \"X80+\"\n",
    "\n",
    "df_lengthofstay = data.frame(ageHospitalMeanLengthOfStay=ageHospitalMeanLengthOfStay)         \n",
    "write.csv(df_lengthofstay, \"data/clean_10641_LoS_age_provider_suppressed.csv\")\n",
    "              "
   ]
  },
  {
   "cell_type": "code",
   "execution_count": null,
   "metadata": {},
   "outputs": [],
   "source": [
    "df_lengthofstay"
   ]
  },
  {
   "cell_type": "markdown",
   "metadata": {},
   "source": [
    "### NHS workforce statistics\n",
    "\n",
    "Latest from:\n",
    "https://digital.nhs.uk/data-and-information/publications/statistical/nhs-workforce-statistics/december-2019\n",
    "\n",
    "Note that this is England, and thus ratio of hospital staff should be normalised to England-only age distribution\n",
    "\n",
    "Age distribution does not seem available, so the main information we need here is \"667,965 Professionally qualified clinical staff\". I'll assume for simplicity that their age distribution reflects the general population age distribution between age 20-69, this can be clarified with more data in needed.\n",
    "\n",
    "The population figures in \"df_hospitalisation\" also reflect England, we can use that as a baseline"
   ]
  },
  {
   "cell_type": "code",
   "execution_count": null,
   "metadata": {},
   "outputs": [],
   "source": [
    "tmp = df_hospitalisation$currentPopulation\n",
    "tmp[1:2] = 0\n",
    "tmp[8:9] = 0\n",
    "df_nhsclinicalstaff = data.frame(\n",
    "    ageNhsClinicalStaffPopulationRatio = (667965*tmp/sum(tmp))/df_hospitalisation$currentPopulation\n",
    ")\n",
    "\n",
    "write.csv(df_nhsclinicalstaff, \"data/clean_nhsclinicalstaff.csv\")"
   ]
  }
 ],
 "metadata": {
  "kernelspec": {
   "display_name": "R [conda env:.conda-r-corona-1]",
   "language": "R",
   "name": "conda-env-.conda-r-corona-1-r"
  },
  "language_info": {
   "codemirror_mode": "r",
   "file_extension": ".r",
   "mimetype": "text/x-r-source",
   "name": "R",
   "pygments_lexer": "r",
   "version": "3.6.1"
  }
 },
 "nbformat": 4,
 "nbformat_minor": 4
}
